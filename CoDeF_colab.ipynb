{
  "cells": [
    {
      "cell_type": "markdown",
      "metadata": {
        "id": "view-in-github"
      },
      "source": [
        "[![Open In Colab](https://colab.research.google.com/assets/colab-badge.svg)](https://colab.research.google.com/github/camenduru/CoDeF-colab/blob/main/CoDeF_colab.ipynb)"
      ]
    },
    {
      "cell_type": "code",
      "execution_count": null,
      "metadata": {
        "id": "VjYy0F2gZIPR"
      },
      "outputs": [],
      "source": [
        "%cd /content\n",
        "%env TF_CPP_MIN_LOG_LEVEL=1\n",
        "\n",
        "# !git clone --recursive https://github.com/nvlabs/tiny-cuda-nn\n",
        "# %cd /content/tiny-cuda-nn\n",
        "# !cmake . -B build\n",
        "# !cmake --build build --config RelWithDebInfo -j\n",
        "# !pip install git+https://github.com/NVlabs/tiny-cuda-nn/#subdirectory=bindings/torch\n",
        "\n",
        "!git clone -b dev https://github.com/camenduru/CoDeF\n",
        "%cd /content/CoDeF\n",
        "\n",
        "!pip install -q pytorch_lightning einops ipdb torch_optimizer kornia scikit-video\n",
        "!pip install -q https://huggingface.co/camenduru/CoDeF/resolve/main/tinycudann-1.7-cp310-cp310-linux_x86_64.whl\n",
        "\n",
        "!apt -y install -qq aria2\n",
        "!aria2c --console-log-level=error -c -x 16 -s 16 -k 1M https://huggingface.co/camenduru/CoDeF/resolve/main/all_sequences.zip -d /content/CoDeF/ckpts -o all_sequences.zip\n",
        "!aria2c --console-log-level=error -c -x 16 -s 16 -k 1M https://huggingface.co/camenduru/CoDeF/resolve/main/beauty_0.ckpt -d /content/CoDeF/ckpts -o beauty_0.ckpt\n",
        "!aria2c --console-log-level=error -c -x 16 -s 16 -k 1M https://huggingface.co/camenduru/CoDeF/resolve/main/beauty_1.ckpt -d /content/CoDeF/ckpts -o beauty_1.ckpt\n",
        "!aria2c --console-log-level=error -c -x 16 -s 16 -k 1M https://huggingface.co/camenduru/CoDeF/resolve/main/lemon_hit.ckpt -d /content/CoDeF/ckpts -o lemon_hit.ckpt\n",
        "!aria2c --console-log-level=error -c -x 16 -s 16 -k 1M https://huggingface.co/camenduru/CoDeF/resolve/main/scene_0.ckpt -d /content/CoDeF/ckpts -o scene_0.ckpt\n",
        "!aria2c --console-log-level=error -c -x 16 -s 16 -k 1M https://huggingface.co/camenduru/CoDeF/resolve/main/white_smoke.ckpt -d /content/CoDeF/ckpts -o white_smoke.ckpt\n",
        "\n",
        "!unzip /content/CoDeF/ckpts/all_sequences.zip -d /content/CoDeF/ckpts\n",
        "!rm -rf /content/CoDeF/ckpts/__MACOSX\n",
        "\n",
        "# !mkdir /content/CoDeF/ckpts/all_sequences/scene_0/base\n",
        "# !cp /content/CoDeF/ckpts/scene_0.ckpt /content/CoDeF/ckpts/all_sequences/scene_0/base/scene_0.ckpt"
      ]
    },
    {
      "cell_type": "code",
      "execution_count": null,
      "metadata": {},
      "outputs": [],
      "source": [
        "# @title Train (Step 1)\n",
        "\n",
        "GPUS=0\n",
        "NAME=\"test\"\n",
        "EXP_NAME=\"base\"\n",
        "ROOT_DIRECTORY=f\"all_sequences/{NAME}/{NAME}\"\n",
        "MODEL_SAVE_PATH=f\"ckpts/all_sequences/{NAME}\"\n",
        "LOG_SAVE_PATH=f\"logs/test_all_sequences/{NAME}\"\n",
        "WEIGHT_PATH=f\"ckpts/all_sequences/{NAME}/{EXP_NAME}/{NAME}.ckpt\"\n",
        "CONFIG_DIRECTORY=f\"configs/{NAME}/{EXP_NAME}.yaml\"\n",
        "MASK_DIRECTORY=f\"all_sequences/{NAME}/{NAME}_masks_0 all_sequences/{NAME}/{NAME}_masks_1\"\n",
        "FLOW_DIRECTORY=f\"all_sequences/{NAME}/{NAME}_flow\"\n",
        "\n",
        "!python train.py --root_dir $ROOT_DIRECTORY \\\n",
        "                --model_save_path $MODEL_SAVE_PATH \\\n",
        "                --log_save_path $LOG_SAVE_PATH  \\\n",
        "                --gpus $GPUS \\\n",
        "                --encode_w --annealed \\\n",
        "                --config $CONFIG_DIRECTORY \\\n",
        "                --exp_name $EXP_NAME\n",
        "                # --mask_dir $MASK_DIRECTORY\n",
        "                # --flow_dir $FLOW_DIRECTORY"
      ]
    },
    {
      "cell_type": "code",
      "execution_count": null,
      "metadata": {},
      "outputs": [],
      "source": [
        "# @title Generate Canonical Image (Step 2)\n",
        "\n",
        "GPUS=0\n",
        "NAME=\"test\"\n",
        "EXP_NAME=\"base\"\n",
        "ROOT_DIRECTORY=f\"all_sequences/{NAME}/{NAME}\"\n",
        "LOG_SAVE_PATH=f\"logs/test_all_sequences/{NAME}\"\n",
        "MASK_DIRECTORY=f\"all_sequences/{NAME}/{NAME}_masks_0 all_sequences/{NAME}/{NAME}_masks_1\"\n",
        "WEIGHT_PATH=f\"ckpts/all_sequences/{NAME}/{EXP_NAME}/last.ckpt\"\n",
        "CONFIG_DIRECTORY=f\"configs/{NAME}/{EXP_NAME}.yaml\"\n",
        "\n",
        "!python train.py  --test --encode_w \\\n",
        "                  --root_dir $ROOT_DIRECTORY \\\n",
        "                  --log_save_path $LOG_SAVE_PATH \\\n",
        "                  --mask_dir $MASK_DIRECTORY \\\n",
        "                  --weight_path $WEIGHT_PATH \\\n",
        "                  --gpus $GPUS \\\n",
        "                  --config $CONFIG_DIRECTORY \\\n",
        "                  --exp_name $EXP_NAME \\\n",
        "                  --save_deform False"
      ]
    },
    {
      "cell_type": "code",
      "execution_count": null,
      "metadata": {},
      "outputs": [],
      "source": [
        "# @title Generate Video (Step 3)\n",
        "\n",
        "GPUS=0\n",
        "NAME=\"test\"\n",
        "EXP_NAME=\"base\"\n",
        "ROOT_DIRECTORY=f\"all_sequences/{NAME}/{NAME}\"\n",
        "LOG_SAVE_PATH=f\"logs/test_all_sequences/{NAME}\"\n",
        "MASK_DIRECTORY=f\"all_sequences/{NAME}/{NAME}_masks_0 all_sequences/{NAME}/{NAME}_masks_1\"\n",
        "CONFIG_DIRECTORY=f\"configs/{NAME}/{EXP_NAME}.yaml\"\n",
        "CANONICAL_DIR=f\"ckpts/all_sequences/{NAME}/{EXP_NAME}_control\"\n",
        "WEIGHT_PATH=f\"ckpts/all_sequences/{NAME}/{EXP_NAME}/last.ckpt\"\n",
        "\n",
        "!python train.py --test --encode_w \\\n",
        "                --root_dir $ROOT_DIRECTORY \\\n",
        "                --log_save_path $LOG_SAVE_PATH \\\n",
        "                --mask_dir $MASK_DIRECTORY \\\n",
        "                --weight_path $WEIGHT_PATH \\\n",
        "                --gpus $GPUS \\\n",
        "                --canonical_dir $CANONICAL_DIR \\\n",
        "                --config $CONFIG_DIRECTORY \\\n",
        "                --exp_name $EXP_NAME"
      ]
    }
  ],
  "metadata": {
    "accelerator": "GPU",
    "colab": {
      "gpuType": "T4",
      "provenance": []
    },
    "kernelspec": {
      "display_name": "Python 3",
      "name": "python3"
    },
    "language_info": {
      "name": "python"
    }
  },
  "nbformat": 4,
  "nbformat_minor": 0
}
