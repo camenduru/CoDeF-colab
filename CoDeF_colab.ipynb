{
  "cells": [
    {
      "cell_type": "markdown",
      "metadata": {
        "id": "view-in-github"
      },
      "source": [
        "[![Open In Colab](https://colab.research.google.com/assets/colab-badge.svg)](https://colab.research.google.com/github/camenduru/CoDeF-colab/blob/main/CoDeF_colab.ipynb)"
      ]
    },
    {
      "cell_type": "code",
      "execution_count": null,
      "metadata": {
        "id": "VjYy0F2gZIPR"
      },
      "outputs": [],
      "source": [
        "%cd /content\n",
        "!git clone -b dev https://github.com/camenduru/CoDeF\n",
        "%cd /content/CoDeF\n",
        "\n",
        "!pip install -q pytorch_lightning einops ipdb torch_optimizer kornia\n",
        "\n",
        "!apt -y install -qq aria2\n",
        "!aria2c --console-log-level=error -c -x 16 -s 16 -k 1M https://huggingface.co/camenduru/CoDeF/resolve/main/all_sequences.zip -d /content/CoDeF/ckpts -o all_sequences.zip\n",
        "!aria2c --console-log-level=error -c -x 16 -s 16 -k 1M https://huggingface.co/camenduru/CoDeF/resolve/main/beauty_0.ckpt -d /content/CoDeF/ckpts -o beauty_0.ckpt\n",
        "!aria2c --console-log-level=error -c -x 16 -s 16 -k 1M https://huggingface.co/camenduru/CoDeF/resolve/main/beauty_1.ckpt -d /content/CoDeF/ckpts -o beauty_1.ckpt\n",
        "!aria2c --console-log-level=error -c -x 16 -s 16 -k 1M https://huggingface.co/camenduru/CoDeF/resolve/main/lemon_hit.ckpt -d /content/CoDeF/ckpts -o lemon_hit.ckpt\n",
        "!aria2c --console-log-level=error -c -x 16 -s 16 -k 1M https://huggingface.co/camenduru/CoDeF/resolve/main/scene_0.ckpt -d /content/CoDeF/ckpts -o scene_0.ckpt\n",
        "!aria2c --console-log-level=error -c -x 16 -s 16 -k 1M https://huggingface.co/camenduru/CoDeF/resolve/main/white_smoke.ckpt -d /content/CoDeF/ckpts -o white_smoke.ckpt\n",
        "\n",
        "!unzip /content/CoDeF/ckpts/all_sequences.zip -d /content/CoDeF/ckpts\n",
        "!rm -rf /content/CoDeF/ckpts/__MACOSX"
      ]
    },
    {
      "cell_type": "code",
      "execution_count": null,
      "metadata": {},
      "outputs": [],
      "source": [
        "GPUS=0\n",
        "NAME=\"scene_0\"\n",
        "EXP_NAME=\"base\"\n",
        "ROOT_DIRECTORY=\"all_sequences/$NAME/$NAME\"\n",
        "LOG_SAVE_PATH=\"logs/test_all_sequences/$NAME\"\n",
        "MASK_DIRECTORY=\"all_sequences/$NAME/${NAME}_masks_0 all_sequences/$NAME/${NAME}_masks_1\"\n",
        "WEIGHT_PATH=f\"ckpts/all_sequences/{NAME}/{EXP_NAME}/{NAME}.ckpt\"\n",
        "\n",
        "!python train.py  --test --encode_w \\\n",
        "                  --root_dir $ROOT_DIRECTORY \\\n",
        "                  --log_save_path $LOG_SAVE_PATH \\\n",
        "                  --mask_dir $MASK_DIRECTORY \\\n",
        "                  --weight_path $WEIGHT_PATH \\\n",
        "                  --gpus $GPUS \\\n",
        "                  --config configs/${NAME}/${EXP_NAME}.yaml \\\n",
        "                  --exp_name ${EXP_NAME} \\\n",
        "                  --save_deform False"
      ]
    }
  ],
  "metadata": {
    "accelerator": "GPU",
    "colab": {
      "gpuType": "T4",
      "provenance": []
    },
    "kernelspec": {
      "display_name": "Python 3",
      "name": "python3"
    },
    "language_info": {
      "name": "python"
    }
  },
  "nbformat": 4,
  "nbformat_minor": 0
}
